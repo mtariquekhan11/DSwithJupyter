{
 "cells": [
  {
   "cell_type": "markdown",
   "metadata": {},
   "source": [
    "# Title: Data Science Bowl Prediction dataset Analysis for Score Prediction\n",
    "## Author: Tarique Khan\n",
    "## Date: 03/12/2019\n",
    "## Output: DSB_submission.csv\n",
    "\n",
    "## Problem Statement: What scores an anonymous player can score or achieve???"
   ]
  },
  {
   "cell_type": "markdown",
   "metadata": {},
   "source": [
    "# Introduction: In this challange Anonymous gamaplay data will be used to predict scores on in-game assessments and create an algorithm that will lead to better designed games and improved learning outcomes"
   ]
  },
  {
   "cell_type": "code",
   "execution_count": 1,
   "metadata": {},
   "outputs": [],
   "source": [
    "import pandas as pd\n",
    "import numpy as np\n",
    "import matplotlib.pylab as plt\n",
    "import seaborn as sns\n",
    "from IPython.display import HTML\n",
    "import warnings\n",
    "%matplotlib inline\n",
    "pd.set_option('max_columns', 100)\n",
    "warnings.filterwarnings(\"ignore\")\n",
    "sns.set_style(\"whitegrid\")\n",
    "my_palette = sns.color_palette(n_colors=10)\n"
   ]
  },
  {
   "cell_type": "markdown",
   "metadata": {},
   "source": [
    "- train.csv & test.csv : These are the main data files which contain the gameplay events.\n",
    "- specs.csv : This file gives the specification of the various event types.\n",
    "- train_labels.csv : This file demonstrates how to compute the ground truth for the assessments in the training set.\n",
    "- sample_submission.csv : A sample submission in the correct format."
   ]
  },
  {
   "cell_type": "code",
   "execution_count": null,
   "metadata": {},
   "outputs": [],
   "source": [
    "train = pd.read_csv(\"F:/DataScience/datasets/Data Science Bowl/train.csv\")\n",
    "train_labels = pd.read_csv(\"F:/DataScience/datasets/Data Science Bowl/train_labels.csv\")\n",
    "test = pd.read_csv(\"F:/DataScience/datasets/Data Science Bowl/test.csv\")\n",
    "specs = pd.read_csv(\"F:/DataScience/datasets/Data Science Bowl/specs.csv\")\n",
    "ss = pd.read_csv(\"F:/DataScience/datasets/Data Science Bowl/sample_submission.csv\")"
   ]
  },
  {
   "cell_type": "code",
   "execution_count": null,
   "metadata": {},
   "outputs": [],
   "source": [
    "# since dataset is too big so we will take random sample of 1M observations for plotting\n",
    "\n",
    "train_dataset = train.sample(1000000) "
   ]
  },
  {
   "cell_type": "code",
   "execution_count": null,
   "metadata": {},
   "outputs": [],
   "source": []
  }
 ],
 "metadata": {
  "kernelspec": {
   "display_name": "Python 3",
   "language": "python",
   "name": "python3"
  },
  "language_info": {
   "codemirror_mode": {
    "name": "ipython",
    "version": 3
   },
   "file_extension": ".py",
   "mimetype": "text/x-python",
   "name": "python",
   "nbconvert_exporter": "python",
   "pygments_lexer": "ipython3",
   "version": "3.7.4"
  }
 },
 "nbformat": 4,
 "nbformat_minor": 2
}
