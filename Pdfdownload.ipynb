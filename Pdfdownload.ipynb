{
 "cells": [
  {
   "cell_type": "code",
   "execution_count": 5,
   "metadata": {},
   "outputs": [],
   "source": [
    "from urllib import request\n",
    "from bs4 import BeautifulSoup\n",
    "import re\n",
    "import os\n",
    "import urllib"
   ]
  },
  {
   "cell_type": "code",
   "execution_count": 6,
   "metadata": {},
   "outputs": [],
   "source": [
    "# connect to website and get list of all pdfs\n",
    "url=\"http://www.gatsby.ucl.ac.uk/teaching/courses/ml1-2016.html\"\n",
    "response = request.urlopen(url).read()\n",
    "soup= BeautifulSoup(response, \"html.parser\")     \n",
    "links = soup.find_all('0478', href=re.compile(r'(.pdf)'))"
   ]
  },
  {
   "cell_type": "code",
   "execution_count": 7,
   "metadata": {},
   "outputs": [
    {
     "name": "stdout",
     "output_type": "stream",
     "text": [
      "[]\n"
     ]
    }
   ],
   "source": [
    "# clean the pdf link names\n",
    "url_list = []\n",
    "for el in links:\n",
    "    url_list.append((\"http://www.gatsby.ucl.ac.uk/teaching/courses/\" + el['href']))\n",
    "print(url_list)"
   ]
  },
  {
   "cell_type": "code",
   "execution_count": 4,
   "metadata": {},
   "outputs": [],
   "source": [
    "# download the pdfs to a specified location\n",
    "for url in url_list:\n",
    "    print(url)\n",
    "    fullfilename = os.path.join('F:\\webscraping', url.replace(\"http://www.gatsby.ucl.ac.uk/teaching/courses/ml1-2016/\", \"\").replace(\".pdf\",\"\"))\n",
    "    print(fullfilename)\n",
    "    request.urlretrieve(url, fullfilename)"
   ]
  },
  {
   "cell_type": "code",
   "execution_count": null,
   "metadata": {},
   "outputs": [],
   "source": []
  }
 ],
 "metadata": {
  "kernelspec": {
   "display_name": "Python 3",
   "language": "python",
   "name": "python3"
  },
  "language_info": {
   "codemirror_mode": {
    "name": "ipython",
    "version": 3
   },
   "file_extension": ".py",
   "mimetype": "text/x-python",
   "name": "python",
   "nbconvert_exporter": "python",
   "pygments_lexer": "ipython3",
   "version": "3.7.4"
  }
 },
 "nbformat": 4,
 "nbformat_minor": 2
}
